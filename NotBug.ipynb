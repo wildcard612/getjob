{
 "cells": [
  {
   "cell_type": "code",
   "execution_count": 1,
   "id": "2d22c093-f1e5-4ef6-9498-7fb7b5d0c251",
   "metadata": {},
   "outputs": [],
   "source": [
    "from numba import njit"
   ]
  },
  {
   "cell_type": "code",
   "execution_count": 2,
   "id": "f5f45bf8-c540-4da9-926d-72f6641ed048",
   "metadata": {},
   "outputs": [
    {
     "name": "stdout",
     "output_type": "stream",
     "text": [
      "Users from Poland: [{'name': 'Kamil', 'country': 'Poland'}]\n"
     ]
    }
   ],
   "source": [
    "# 1. Create a new list with users from Poland using list comprehension.\n",
    "users = [\n",
    "    {\"name\": \"Kamil\", \"country\": \"Poland\"},\n",
    "    {\"name\": \"John\", \"country\": \"USA\"},\n",
    "    {\"name\": \"Yeti\"}  # Missing country key\n",
    "]\n",
    "\n",
    "polish_users = [user for user in users if user.get(\"country\") == \"Poland\"]\n",
    "print(\"Users from Poland:\", polish_users)\n",
    "\n",
    "\n",
    "\n",
    "\n"
   ]
  },
  {
   "cell_type": "code",
   "execution_count": 3,
   "id": "f0aa0b98-921e-489b-8349-6f61e4492955",
   "metadata": {},
   "outputs": [
    {
     "name": "stdout",
     "output_type": "stream",
     "text": [
      "Sum of elements from index 5 to 14: 80\n"
     ]
    }
   ],
   "source": [
    "# 2. Display the sum of the first ten elements starting from element 5.\n",
    "numbers = [1, 5, 2, 3, 1, 4, 1, 23, 12, 2, 3, 1, 2, 31, 23, 1, 2, 3, 1, 23, 1, 2, 3, 123]\n",
    "\n",
    "@njit\n",
    "def sum_of_sublist(numbers):\n",
    "    return sum(numbers[4:14])  # Start from index 4 (5th element), take 10 elements\n",
    "\n",
    "result = sum_of_sublist(numbers)\n",
    "print(\"Sum of elements from index 5 to 14:\", result)"
   ]
  },
  {
   "cell_type": "code",
   "execution_count": null,
   "id": "124e465e-329e-43fb-b3c4-e9769b5b9776",
   "metadata": {},
   "outputs": [],
   "source": [
    "# 3. Fill list with powers of 2 for n in [1..20].\n",
    "@njit\n",
    "def powers_of_two(n):\n",
    "    return [2 ** i for i in range(1, n + 1)]\n",
    "\n",
    "power_list = powers_of_two(20)\n",
    "print(\"Powers of 2 (n = 1 to 20):\", power_list)"
   ]
  }
 ],
 "metadata": {
  "kernelspec": {
   "display_name": "Python 3 (ipykernel)",
   "language": "python",
   "name": "python3"
  },
  "language_info": {
   "codemirror_mode": {
    "name": "ipython",
    "version": 3
   },
   "file_extension": ".py",
   "mimetype": "text/x-python",
   "name": "python",
   "nbconvert_exporter": "python",
   "pygments_lexer": "ipython3",
   "version": "3.11.2"
  }
 },
 "nbformat": 4,
 "nbformat_minor": 5
}
